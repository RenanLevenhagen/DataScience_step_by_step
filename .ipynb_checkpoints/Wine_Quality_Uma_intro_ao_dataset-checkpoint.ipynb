{
 "cells": [
  {
   "cell_type": "code",
   "execution_count": null,
   "metadata": {},
   "outputs": [],
   "source": []
  },
  {
   "cell_type": "markdown",
   "metadata": {
    "colab_type": "text",
    "id": "view-in-github"
   },
   "source": [
    "<a href=\"https://colab.research.google.com/github/RenanlbNeves/DataScience_step_by_step/blob/master/Wine_Quality_Uma_intro_ao_dataset.ipynb\" target=\"_parent\"><img src=\"https://colab.research.google.com/assets/colab-badge.svg\" alt=\"Open In Colab\"/></a>"
   ]
  },
  {
   "cell_type": "markdown",
   "metadata": {
    "colab_type": "text",
    "id": "qm2aQKtUWJSf"
   },
   "source": [
    "# Esse notebook visa:\n",
    "## - explorar os dados da tabela wine_quality\n",
    "## - visualizar a distribuição no datasets\n",
    "## - classificar os vinhos que nela constam usando algorítmo de árvore de decisão \n"
   ]
  },
  {
   "cell_type": "markdown",
   "metadata": {
    "colab_type": "text",
    "id": "QlgthI2BWJSj"
   },
   "source": [
    "O dataset está disponível no endereço: https://www.kaggle.com/uciml/red-wine-quality-cortez-et-al-2009"
   ]
  },
  {
   "cell_type": "markdown",
   "metadata": {
    "colab_type": "text",
    "id": "bifOepMDWJSn"
   },
   "source": [
    "Primeiro, vamos importar a biblioteca pandas para nosso notebook, a seguir iremos ler o arquivo com os dados e explorar seus dados:"
   ]
  },
  {
   "cell_type": "code",
   "execution_count": 0,
   "metadata": {
    "colab": {},
    "colab_type": "code",
    "id": "t6bk4kIfWJSq"
   },
   "outputs": [],
   "source": [
    "import numpy as np\n",
    "import pandas as pd"
   ]
  },
  {
   "cell_type": "code",
   "execution_count": 0,
   "metadata": {
    "colab": {},
    "colab_type": "code",
    "id": "h-402mFEWJS0"
   },
   "outputs": [],
   "source": [
    "dt = pd.read_csv('winequality-red.csv')"
   ]
  },
  {
   "cell_type": "code",
   "execution_count": 10,
   "metadata": {
    "colab": {
     "base_uri": "https://localhost:8080/",
     "height": 34
    },
    "colab_type": "code",
    "id": "CGL8y-jqWJS5",
    "outputId": "a527c1a2-031f-4339-f04d-66b25846e9fe"
   },
   "outputs": [
    {
     "data": {
      "text/plain": [
       "(1599, 12)"
      ]
     },
     "execution_count": 10,
     "metadata": {
      "tags": []
     },
     "output_type": "execute_result"
    }
   ],
   "source": [
    "dt.shape\n"
   ]
  },
  {
   "cell_type": "code",
   "execution_count": 11,
   "metadata": {
    "colab": {
     "base_uri": "https://localhost:8080/",
     "height": 258
    },
    "colab_type": "code",
    "id": "uddvh_iRWJS_",
    "outputId": "bdcf2b29-a725-41e8-e0fb-3f5c72964c3d"
   },
   "outputs": [
    {
     "data": {
      "text/html": [
       "<div>\n",
       "<style scoped>\n",
       "    .dataframe tbody tr th:only-of-type {\n",
       "        vertical-align: middle;\n",
       "    }\n",
       "\n",
       "    .dataframe tbody tr th {\n",
       "        vertical-align: top;\n",
       "    }\n",
       "\n",
       "    .dataframe thead th {\n",
       "        text-align: right;\n",
       "    }\n",
       "</style>\n",
       "<table border=\"1\" class=\"dataframe\">\n",
       "  <thead>\n",
       "    <tr style=\"text-align: right;\">\n",
       "      <th></th>\n",
       "      <th>fixed acidity</th>\n",
       "      <th>volatile acidity</th>\n",
       "      <th>citric acid</th>\n",
       "      <th>residual sugar</th>\n",
       "      <th>chlorides</th>\n",
       "      <th>free sulfur dioxide</th>\n",
       "      <th>total sulfur dioxide</th>\n",
       "      <th>density</th>\n",
       "      <th>pH</th>\n",
       "      <th>sulphates</th>\n",
       "      <th>alcohol</th>\n",
       "      <th>quality</th>\n",
       "    </tr>\n",
       "  </thead>\n",
       "  <tbody>\n",
       "    <tr>\n",
       "      <th>0</th>\n",
       "      <td>7.4</td>\n",
       "      <td>0.70</td>\n",
       "      <td>0.00</td>\n",
       "      <td>1.9</td>\n",
       "      <td>0.076</td>\n",
       "      <td>11.0</td>\n",
       "      <td>34.0</td>\n",
       "      <td>0.9978</td>\n",
       "      <td>3.51</td>\n",
       "      <td>0.56</td>\n",
       "      <td>9.4</td>\n",
       "      <td>5</td>\n",
       "    </tr>\n",
       "    <tr>\n",
       "      <th>1</th>\n",
       "      <td>7.8</td>\n",
       "      <td>0.88</td>\n",
       "      <td>0.00</td>\n",
       "      <td>2.6</td>\n",
       "      <td>0.098</td>\n",
       "      <td>25.0</td>\n",
       "      <td>67.0</td>\n",
       "      <td>0.9968</td>\n",
       "      <td>3.20</td>\n",
       "      <td>0.68</td>\n",
       "      <td>9.8</td>\n",
       "      <td>5</td>\n",
       "    </tr>\n",
       "    <tr>\n",
       "      <th>2</th>\n",
       "      <td>7.8</td>\n",
       "      <td>0.76</td>\n",
       "      <td>0.04</td>\n",
       "      <td>2.3</td>\n",
       "      <td>0.092</td>\n",
       "      <td>15.0</td>\n",
       "      <td>54.0</td>\n",
       "      <td>0.9970</td>\n",
       "      <td>3.26</td>\n",
       "      <td>0.65</td>\n",
       "      <td>9.8</td>\n",
       "      <td>5</td>\n",
       "    </tr>\n",
       "    <tr>\n",
       "      <th>3</th>\n",
       "      <td>11.2</td>\n",
       "      <td>0.28</td>\n",
       "      <td>0.56</td>\n",
       "      <td>1.9</td>\n",
       "      <td>0.075</td>\n",
       "      <td>17.0</td>\n",
       "      <td>60.0</td>\n",
       "      <td>0.9980</td>\n",
       "      <td>3.16</td>\n",
       "      <td>0.58</td>\n",
       "      <td>9.8</td>\n",
       "      <td>6</td>\n",
       "    </tr>\n",
       "    <tr>\n",
       "      <th>4</th>\n",
       "      <td>7.4</td>\n",
       "      <td>0.70</td>\n",
       "      <td>0.00</td>\n",
       "      <td>1.9</td>\n",
       "      <td>0.076</td>\n",
       "      <td>11.0</td>\n",
       "      <td>34.0</td>\n",
       "      <td>0.9978</td>\n",
       "      <td>3.51</td>\n",
       "      <td>0.56</td>\n",
       "      <td>9.4</td>\n",
       "      <td>5</td>\n",
       "    </tr>\n",
       "  </tbody>\n",
       "</table>\n",
       "</div>"
      ],
      "text/plain": [
       "   fixed acidity  volatile acidity  citric acid  residual sugar  chlorides  \\\n",
       "0            7.4              0.70         0.00             1.9      0.076   \n",
       "1            7.8              0.88         0.00             2.6      0.098   \n",
       "2            7.8              0.76         0.04             2.3      0.092   \n",
       "3           11.2              0.28         0.56             1.9      0.075   \n",
       "4            7.4              0.70         0.00             1.9      0.076   \n",
       "\n",
       "   free sulfur dioxide  total sulfur dioxide  density    pH  sulphates  \\\n",
       "0                 11.0                  34.0   0.9978  3.51       0.56   \n",
       "1                 25.0                  67.0   0.9968  3.20       0.68   \n",
       "2                 15.0                  54.0   0.9970  3.26       0.65   \n",
       "3                 17.0                  60.0   0.9980  3.16       0.58   \n",
       "4                 11.0                  34.0   0.9978  3.51       0.56   \n",
       "\n",
       "   alcohol  quality  \n",
       "0      9.4        5  \n",
       "1      9.8        5  \n",
       "2      9.8        5  \n",
       "3      9.8        6  \n",
       "4      9.4        5  "
      ]
     },
     "execution_count": 11,
     "metadata": {
      "tags": []
     },
     "output_type": "execute_result"
    }
   ],
   "source": [
    "dt.head()"
   ]
  },
  {
   "cell_type": "markdown",
   "metadata": {
    "colab_type": "text",
    "id": "dTIewRAnWJTF"
   },
   "source": [
    "Podemos ver que a tabela traz 12 colunas, todas numéricas, com dados fisico-químicos dos vinhos. A ultima coluna nos traz a classificação do vinho."
   ]
  },
  {
   "cell_type": "markdown",
   "metadata": {
    "colab_type": "text",
    "id": "SkvD_i-WWJTG"
   },
   "source": [
    "Vamos analisar os valores faltantes (missing values) da nossa tabela:\n"
   ]
  },
  {
   "cell_type": "code",
   "execution_count": 12,
   "metadata": {
    "colab": {
     "base_uri": "https://localhost:8080/",
     "height": 238
    },
    "colab_type": "code",
    "id": "79I7mr40WJTI",
    "outputId": "826bbbf0-3d07-4a4d-b4e1-b551e5553970"
   },
   "outputs": [
    {
     "data": {
      "text/plain": [
       "fixed acidity           0\n",
       "volatile acidity        0\n",
       "citric acid             0\n",
       "residual sugar          0\n",
       "chlorides               0\n",
       "free sulfur dioxide     0\n",
       "total sulfur dioxide    0\n",
       "density                 0\n",
       "pH                      0\n",
       "sulphates               0\n",
       "alcohol                 0\n",
       "quality                 0\n",
       "dtype: int64"
      ]
     },
     "execution_count": 12,
     "metadata": {
      "tags": []
     },
     "output_type": "execute_result"
    }
   ],
   "source": [
    "dt.isna().sum()"
   ]
  },
  {
   "cell_type": "markdown",
   "metadata": {
    "colab_type": "text",
    "id": "AKfX1DksWJTN"
   },
   "source": [
    "Rodando os códigos *dt.isnull().sum() -ou st.isna().sum() -* temos a soma de todos os valores que são NaN. Como o método isna() retorna uma tabela de valores Booleanos, podemos soma-los, onde True=1 e False=0. Neste caso, vemos que essa tabela nõa possui valores NaN."
   ]
  },
  {
   "cell_type": "code",
   "execution_count": 13,
   "metadata": {
    "colab": {
     "base_uri": "https://localhost:8080/",
     "height": 34
    },
    "colab_type": "code",
    "id": "YVfaVbbFWJTO",
    "outputId": "e9e722e8-5b3f-4a01-ac96-2ab3cd870d99"
   },
   "outputs": [
    {
     "data": {
      "text/plain": [
       "3"
      ]
     },
     "execution_count": 13,
     "metadata": {
      "tags": []
     },
     "output_type": "execute_result"
    }
   ],
   "source": [
    "dt.quality.min()"
   ]
  },
  {
   "cell_type": "code",
   "execution_count": 14,
   "metadata": {
    "colab": {
     "base_uri": "https://localhost:8080/",
     "height": 34
    },
    "colab_type": "code",
    "id": "s0OfC61CWJTT",
    "outputId": "b71ea1c2-3f2a-407a-f877-0ef1246a4f17"
   },
   "outputs": [
    {
     "data": {
      "text/plain": [
       "8"
      ]
     },
     "execution_count": 14,
     "metadata": {
      "tags": []
     },
     "output_type": "execute_result"
    }
   ],
   "source": [
    "dt.quality.max()"
   ]
  },
  {
   "cell_type": "markdown",
   "metadata": {},
   "source": [
    "Podemos saber a porcentagem de variáveis por coluna"
   ]
  },
  {
   "cell_type": "code",
   "execution_count": null,
   "metadata": {},
   "outputs": [],
   "source": [
    "dt.value_counts(normalize=True)"
   ]
  },
  {
   "cell_type": "markdown",
   "metadata": {
    "colab_type": "text",
    "id": "_shcvaciWJTX"
   },
   "source": [
    "Notasse que a nota mínima de qualidade é 3, e a máxima é 8."
   ]
  },
  {
   "cell_type": "markdown",
   "metadata": {
    "colab_type": "text",
    "id": "T88Yf8oMWJTX"
   },
   "source": [
    "Podemos testar a correlação entre as colunas variáveis e a coluna qualidade, que é nosso target."
   ]
  },
  {
   "cell_type": "code",
   "execution_count": 15,
   "metadata": {
    "colab": {
     "base_uri": "https://localhost:8080/",
     "height": 833
    },
    "colab_type": "code",
    "id": "YJPewN_gWJTY",
    "outputId": "55fd7bd2-32b3-4e40-8136-17103f922cea"
   },
   "outputs": [
    {
     "name": "stdout",
     "output_type": "stream",
     "text": [
      "               fixed acidity   quality\n",
      "fixed acidity       1.000000  0.124052\n",
      "quality             0.124052  1.000000\n",
      "\n",
      "                  volatile acidity   quality\n",
      "volatile acidity          1.000000 -0.390558\n",
      "quality                  -0.390558  1.000000\n",
      "\n",
      "             citric acid   quality\n",
      "citric acid     1.000000  0.226373\n",
      "quality         0.226373  1.000000\n",
      "\n",
      "                residual sugar   quality\n",
      "residual sugar        1.000000  0.013732\n",
      "quality               0.013732  1.000000\n",
      "\n",
      "           chlorides   quality\n",
      "chlorides   1.000000 -0.128907\n",
      "quality    -0.128907  1.000000\n",
      "\n",
      "                     free sulfur dioxide   quality\n",
      "free sulfur dioxide             1.000000 -0.050656\n",
      "quality                        -0.050656  1.000000\n",
      "\n",
      "                      total sulfur dioxide  quality\n",
      "total sulfur dioxide                1.0000  -0.1851\n",
      "quality                            -0.1851   1.0000\n",
      "\n",
      "          density   quality\n",
      "density  1.000000 -0.174919\n",
      "quality -0.174919  1.000000\n",
      "\n",
      "               pH   quality\n",
      "pH       1.000000 -0.057731\n",
      "quality -0.057731  1.000000\n",
      "\n",
      "           sulphates   quality\n",
      "sulphates   1.000000  0.251397\n",
      "quality     0.251397  1.000000\n",
      "\n",
      "          alcohol   quality\n",
      "alcohol  1.000000  0.476166\n",
      "quality  0.476166  1.000000\n",
      "\n",
      "         quality  quality\n",
      "quality      1.0      1.0\n",
      "quality      1.0      1.0\n",
      "\n"
     ]
    }
   ],
   "source": [
    "for x in dt.columns:\n",
    "    print(dt[[x,'quality']].corr())\n",
    "    print()\n"
   ]
  },
  {
   "cell_type": "markdown",
   "metadata": {
    "colab_type": "text",
    "id": "x330q2byWJTb"
   },
   "source": [
    "Analisando o resultado, vemos que a maior correlação com a coluna *quality* é a coluna *alcohol*, mas ainda assim, sendo uma fraca correlação.\n",
    "\n"
   ]
  },
  {
   "cell_type": "markdown",
   "metadata": {
    "colab_type": "text",
    "id": "xOEiJG0-WJTd"
   },
   "source": [
    "# Visualizando os dados usando Matplotlib\n",
    "Podemos usar também gráficos para analisar melhor os resultados, usando a biblioteca matplotlib.\n",
    "Primeiro, temos que importar a biblioteca."
   ]
  },
  {
   "cell_type": "code",
   "execution_count": 0,
   "metadata": {
    "colab": {},
    "colab_type": "code",
    "id": "B4hfL8xKWJTd"
   },
   "outputs": [],
   "source": [
    "import matplotlib.pyplot as plt\n",
    "%matplotlib inline"
   ]
  },
  {
   "cell_type": "code",
   "execution_count": 17,
   "metadata": {
    "colab": {
     "base_uri": "https://localhost:8080/",
     "height": 316
    },
    "colab_type": "code",
    "id": "c73MymqtWJTg",
    "outputId": "aedf031a-0e68-40f3-f530-4c098ece3870"
   },
   "outputs": [
    {
     "data": {
      "text/plain": [
       "(array([ 10.,   0.,  53.,   0., 681.,   0., 638.,   0., 199.,  18.]),\n",
       " array([3. , 3.5, 4. , 4.5, 5. , 5.5, 6. , 6.5, 7. , 7.5, 8. ]),\n",
       " <a list of 10 Patch objects>)"
      ]
     },
     "execution_count": 17,
     "metadata": {
      "tags": []
     },
     "output_type": "execute_result"
    },
    {
     "data": {
      "image/png": "[encoded data removed]",
      "text/plain": [
       "<matplotlib.figure.Figure at 0x7fa621ae1cf8>"
      ]
     },
     "metadata": {
      "tags": []
     },
     "output_type": "display_data"
    }
   ],
   "source": [
    "plt.hist(dt.quality,10,density=False, facecolor='blue')"
   ]
  },
  {
   "cell_type": "markdown",
   "metadata": {
    "colab_type": "text",
    "id": "a_-ztXnVWJTj"
   },
   "source": [
    "Sabemos como estão distribuidos os valores da coluna ***quality*** na nossa tabela. A maior parte dos vinhos estão classificados entre 5 e 6."
   ]
  },
  {
   "cell_type": "markdown",
   "metadata": {
    "colab_type": "text",
    "id": "KkrP7KRvWJTl"
   },
   "source": [
    "# Aplicando Machine Learning "
   ]
  },
  {
   "cell_type": "markdown",
   "metadata": {
    "colab_type": "text",
    "id": "YDXBk3JRWJTm"
   },
   "source": [
    "Para nosso estudo, iremos utilizar o algorítmo de árvore de decisão, da biblioteca Scikt-Learn. Importe a biblioteca e suas funções necessárias para a utilização:\n"
   ]
  },
  {
   "cell_type": "code",
   "execution_count": 0,
   "metadata": {
    "colab": {},
    "colab_type": "code",
    "id": "uHOdWjjuWJTm"
   },
   "outputs": [],
   "source": [
    "from sklearn.metrics import accuracy_score\n",
    "from sklearn.model_selection import train_test_split\n",
    "from sklearn.tree import DecisionTreeClassifier"
   ]
  },
  {
   "cell_type": "markdown",
   "metadata": {
    "colab_type": "text",
    "id": "D51utUqtWJTq"
   },
   "source": [
    "## Preparação "
   ]
  },
  {
   "cell_type": "markdown",
   "metadata": {
    "colab_type": "text",
    "id": "_iX30L5dWJTs"
   },
   "source": [
    "\n",
    "\n",
    "Podemos então começar a preparar nossos dados para serem aplicados ao processo de classificação, com intuito de prever a qualidade dos vinhos através das outras variáveis(colunas).\n",
    "Primeiro, iremos separar as colunas entre varáveis (x) e nosso alvo (y). Assim, iremos ter as colunas que serão nossa base de calculos para a classificação.\n"
   ]
  },
  {
   "cell_type": "code",
   "execution_count": 19,
   "metadata": {
    "colab": {
     "base_uri": "https://localhost:8080/",
     "height": 85
    },
    "colab_type": "code",
    "id": "USEX28MUWJTt",
    "outputId": "2ac8bd73-f9a3-4dae-8c7c-7202c8b38750"
   },
   "outputs": [
    {
     "data": {
      "text/plain": [
       "Index(['fixed acidity', 'volatile acidity', 'citric acid', 'residual sugar',\n",
       "       'chlorides', 'free sulfur dioxide', 'total sulfur dioxide', 'density',\n",
       "       'pH', 'sulphates', 'alcohol', 'quality'],\n",
       "      dtype='object')"
      ]
     },
     "execution_count": 19,
     "metadata": {
      "tags": []
     },
     "output_type": "execute_result"
    }
   ],
   "source": [
    "dt.columns"
   ]
  },
  {
   "cell_type": "code",
   "execution_count": 0,
   "metadata": {
    "colab": {},
    "colab_type": "code",
    "id": "ZLLvNM3ZWJTx"
   },
   "outputs": [],
   "source": [
    "x = dt[['fixed acidity', 'volatile acidity', 'citric acid', 'residual sugar',\n",
    "       'chlorides', 'free sulfur dioxide', 'total sulfur dioxide', 'density',\n",
    "       'pH', 'sulphates', 'alcohol']].copy()"
   ]
  },
  {
   "cell_type": "code",
   "execution_count": 0,
   "metadata": {
    "colab": {},
    "colab_type": "code",
    "id": "lwGmIa9BWJT0"
   },
   "outputs": [],
   "source": [
    "y= dt[['quality']].copy()"
   ]
  },
  {
   "cell_type": "code",
   "execution_count": 22,
   "metadata": {
    "colab": {
     "base_uri": "https://localhost:8080/",
     "height": 51
    },
    "colab_type": "code",
    "id": "FkJpFoXgWJT1",
    "outputId": "79e894c0-f92c-4889-9035-bbba6459ddef"
   },
   "outputs": [
    {
     "name": "stdout",
     "output_type": "stream",
     "text": [
      "(1599, 11)\n",
      "(1599, 1)\n"
     ]
    }
   ],
   "source": [
    "print(x.shape)\n",
    "print(y.shape)"
   ]
  },
  {
   "cell_type": "markdown",
   "metadata": {
    "colab_type": "text",
    "id": "r4Y-k-UlWJT5"
   },
   "source": [
    "Analisando o formato das tabelas geradas, vemos que a tabela *dt* foi dividida em duas, ***x*** com as 11 variáveis e ***y*** com nosso alvo (*quality*) "
   ]
  },
  {
   "cell_type": "markdown",
   "metadata": {
    "colab_type": "text",
    "id": "z8XNpRuqWJT5"
   },
   "source": [
    "## Treinando a Árvore de Decisão"
   ]
  },
  {
   "cell_type": "markdown",
   "metadata": {
    "colab_type": "text",
    "id": "nSGLnmyTWJT6"
   },
   "source": [
    "Começamos agora o treinamento do nosso modelo. \n",
    "Usamos o metodo train_test_split() para separar nossos dados que serão base dos treinamentos e testes. \n",
    "\n",
    "**test_size:** usado para definir o percentual do montante dos dados da tabela original usado na tabela teste. O restante será usado no treinamento.\n",
    "\n",
    "**random_state:** número inteiro que representa uma versão randomica da divisão dos dados entre a tabela teste e treinamento.\n",
    "se não for informado, a cada vez que a o código for processado o algorítmo irá gerar uma base diferente para as tabelas teste e treinamento.\n"
   ]
  },
  {
   "cell_type": "code",
   "execution_count": 0,
   "metadata": {
    "colab": {},
    "colab_type": "code",
    "id": "7kpwYgPGWJT6"
   },
   "outputs": [],
   "source": [
    "x_train, x_test, y_train,y_test = train_test_split(x,y, test_size=0.33, random_state=324)"
   ]
  },
  {
   "cell_type": "code",
   "execution_count": 24,
   "metadata": {
    "colab": {
     "base_uri": "https://localhost:8080/",
     "height": 85
    },
    "colab_type": "code",
    "id": "QrG-9RAuWJT9",
    "outputId": "0d5b1f6c-a2a5-4e0d-cd80-897a7c8f055d"
   },
   "outputs": [
    {
     "name": "stdout",
     "output_type": "stream",
     "text": [
      "(1071, 11)\n",
      "(528, 11)\n",
      "(1071, 1)\n",
      "(528, 1)\n"
     ]
    }
   ],
   "source": [
    "print(x_train.shape)\n",
    "print(x_test.shape)\n",
    "print(y_train.shape)\n",
    "print(y_test.shape)\n"
   ]
  },
  {
   "cell_type": "markdown",
   "metadata": {
    "colab_type": "text",
    "id": "L6N1OXtDWJT_"
   },
   "source": [
    "Vemos acima que a tabela ***dt*** foi divida em tabelas, com tamanhos conforme definido em test_size."
   ]
  },
  {
   "cell_type": "markdown",
   "metadata": {
    "colab_type": "text",
    "id": "t_7zBse7WJUA"
   },
   "source": [
    "Próximo passo é criar nosso modelo classificador, que irá receber ***x_train*** e ***y_train*** para treinamento.\n",
    "\n",
    "**max_leaf_nodes:** define a quantidade de nós na árvore de decisão serão utilizadas."
   ]
  },
  {
   "cell_type": "code",
   "execution_count": 25,
   "metadata": {
    "colab": {
     "base_uri": "https://localhost:8080/",
     "height": 119
    },
    "colab_type": "code",
    "id": "BB4M8lcdWJUB",
    "outputId": "0c52a177-ce06-4e7f-904b-3fed4ed7a8e9"
   },
   "outputs": [
    {
     "data": {
      "text/plain": [
       "DecisionTreeClassifier(class_weight=None, criterion='gini', max_depth=None,\n",
       "            max_features=None, max_leaf_nodes=10,\n",
       "            min_impurity_decrease=0.0, min_impurity_split=None,\n",
       "            min_samples_leaf=1, min_samples_split=2,\n",
       "            min_weight_fraction_leaf=0.0, presort=False, random_state=1,\n",
       "            splitter='best')"
      ]
     },
     "execution_count": 25,
     "metadata": {
      "tags": []
     },
     "output_type": "execute_result"
    }
   ],
   "source": [
    "wine_quality_classifier = DecisionTreeClassifier(max_leaf_nodes=10, random_state=1)\n",
    "wine_quality_classifier.fit(x_train,y_train)"
   ]
  },
  {
   "cell_type": "markdown",
   "metadata": {
    "colab_type": "text",
    "id": "GmhDSMd2WJUF"
   },
   "source": [
    "Com o modelo já treinado, colocaremos em teste usando ***x_test***. Passaremos um conjunto não conhecido para o modelo, onde ele irá classificar a qualidade dos vinhos analisando as variáveis recebidas. Esse resultado será armazenado em ***predictions*** em um formato de numpy.ndarray."
   ]
  },
  {
   "cell_type": "code",
   "execution_count": 0,
   "metadata": {
    "colab": {},
    "colab_type": "code",
    "id": "3WrJgcIYWJUF"
   },
   "outputs": [],
   "source": [
    "predictions = wine_quality_classifier.predict(x_test)"
   ]
  },
  {
   "cell_type": "code",
   "execution_count": 27,
   "metadata": {
    "colab": {
     "base_uri": "https://localhost:8080/",
     "height": 34
    },
    "colab_type": "code",
    "id": "osOoZnnaWJUI",
    "outputId": "bceab31f-6619-450f-fbf4-ed75d682d1d1"
   },
   "outputs": [
    {
     "data": {
      "text/plain": [
       "array([6, 6, 6, 7, 5])"
      ]
     },
     "execution_count": 27,
     "metadata": {
      "tags": []
     },
     "output_type": "execute_result"
    }
   ],
   "source": [
    "predictions[:5]\n"
   ]
  },
  {
   "cell_type": "markdown",
   "metadata": {
    "colab_type": "text",
    "id": "vN6E33GGWJUL"
   },
   "source": [
    "# Mas como nosso modelo se saiu?\n",
    "\n",
    "Podemos usar ***accuracy_score()*** para medir o percentual de acerto do nosso modelo.\n",
    "\n",
    "quanto mais próximo de 1, melhor é o seu desempenho."
   ]
  },
  {
   "cell_type": "code",
   "execution_count": 28,
   "metadata": {
    "colab": {
     "base_uri": "https://localhost:8080/",
     "height": 34
    },
    "colab_type": "code",
    "id": "UJA4eXRRWJUM",
    "outputId": "ba508994-39c5-4ec5-fe20-d02a43cfda54"
   },
   "outputs": [
    {
     "data": {
      "text/plain": [
       "0.5492424242424242"
      ]
     },
     "execution_count": 28,
     "metadata": {
      "tags": []
     },
     "output_type": "execute_result"
    }
   ],
   "source": [
    "accuracy_score(y_true=y_test, y_pred=predictions)"
   ]
  },
  {
   "cell_type": "markdown",
   "metadata": {
    "colab_type": "text",
    "id": "SGkxOueMWJUQ"
   },
   "source": [
    "### Agora que já fizemos uma breve análise da nossa tabela e aplicamos o algoritmo de árvore de decisão para classificar os vinhos, faça alguns testes, alterando os números de nós, aplicando outro algorítmo de classificação ou até mesmo regressão, e compare os resultados atingidos. Bons estudos."
   ]
  }
 ],
 "metadata": {
  "colab": {
   "include_colab_link": true,
   "name": "Wine_Quality -Uma intro ao dataset.ipynb",
   "provenance": [],
   "toc_visible": true,
   "version": "0.3.2"
  },
  "kernelspec": {
   "display_name": "Python 3",
   "language": "python",
   "name": "python3"
  },
  "language_info": {
   "codemirror_mode": {
    "name": "ipython",
    "version": 3
   },
   "file_extension": ".py",
   "mimetype": "text/x-python",
   "name": "python",
   "nbconvert_exporter": "python",
   "pygments_lexer": "ipython3",
   "version": "3.6.5"
  }
 },
 "nbformat": 4,
 "nbformat_minor": 1
}
